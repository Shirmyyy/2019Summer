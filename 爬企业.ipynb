{
 "cells": [
  {
   "cell_type": "code",
   "execution_count": null,
   "metadata": {},
   "outputs": [],
   "source": [
    "url = \"https://movie.douban.com/cinema/later/chengdu/\"\n",
    "headers = {'user-agent': 'my-app/0.0.1'}\n",
    "response = requests.get(url,headers=headers)\n",
    "print(response.content.decode('utf-8'))\n",
    "# 保存网页到本地\n",
    "file_obj = open('douban.html', 'w')  # 以写模式打开名叫 douban.html的文件\n",
    "# 如果打开网页显示的是乱码那么就用下一行代码\n",
    "# file_obj = open('douban.html', 'w', encoding=\"utf-8\")  # 以写模式打开名叫 douban.html的文件，指定编码为utf-8\n",
    "file_obj.write(response.content.decode('utf-8'))  # 把响应的html内容\n",
    "file_obj.close()  # 关闭文件，结束写入"
   ]
  }
 ],
 "metadata": {
  "kernelspec": {
   "display_name": "Python 3",
   "language": "python",
   "name": "python3"
  },
  "language_info": {
   "codemirror_mode": {
    "name": "ipython",
    "version": 3
   },
   "file_extension": ".py",
   "mimetype": "text/x-python",
   "name": "python",
   "nbconvert_exporter": "python",
   "pygments_lexer": "ipython3",
   "version": "3.7.3"
  }
 },
 "nbformat": 4,
 "nbformat_minor": 2
}
